{
  "nbformat": 4,
  "nbformat_minor": 0,
  "metadata": {
    "colab": {
      "name": "matriz.ipynb",
      "provenance": [],
      "include_colab_link": true
    },
    "kernelspec": {
      "name": "python3",
      "display_name": "Python 3"
    }
  },
  "cells": [
    {
      "cell_type": "markdown",
      "metadata": {
        "id": "view-in-github",
        "colab_type": "text"
      },
      "source": [
        "<a href=\"https://colab.research.google.com/github/Fr4nT1c86/hello-world-flutter/blob/master/matriz.ipynb\" target=\"_parent\"><img src=\"https://colab.research.google.com/assets/colab-badge.svg\" alt=\"Open In Colab\"/></a>"
      ]
    },
    {
      "cell_type": "code",
      "metadata": {
        "id": "Ls1N1-9GD8Eq",
        "colab_type": "code",
        "colab": {}
      },
      "source": [
        "import tensorflow as tf"
      ],
      "execution_count": 0,
      "outputs": []
    },
    {
      "cell_type": "code",
      "metadata": {
        "id": "42unTcoSEHvZ",
        "colab_type": "code",
        "outputId": "aa841fc0-9087-4b27-dd53-d0232bcd23ad",
        "colab": {
          "base_uri": "https://localhost:8080/",
          "height": 51
        }
      },
      "source": [
        "#questão B\n",
        "A = tf.constant([[1,2]])\n",
        "B = tf.constant([[0],[1]])\n",
        "resultado = A+B\n",
        "print (tf.Session().run(resultado))"
      ],
      "execution_count": 33,
      "outputs": [
        {
          "output_type": "stream",
          "text": [
            "[[1 2]\n",
            " [2 3]]\n"
          ],
          "name": "stdout"
        }
      ]
    },
    {
      "cell_type": "code",
      "metadata": {
        "id": "UDgfih3lFKIi",
        "colab_type": "code",
        "outputId": "ff89dad8-091a-402a-c85e-33d2965360f2",
        "colab": {
          "base_uri": "https://localhost:8080/",
          "height": 34
        }
      },
      "source": [
        "#questão D\n",
        "A = tf.constant([[1,0,2]])\n",
        "B = tf.constant([[2],[3],[1]])\n",
        "resultado = tf.matmul(A,B)\n",
        "print (tf.Session().run(resultado))"
      ],
      "execution_count": 26,
      "outputs": [
        {
          "output_type": "stream",
          "text": [
            "[[4]]\n"
          ],
          "name": "stdout"
        }
      ]
    },
    {
      "cell_type": "code",
      "metadata": {
        "id": "S4xssFX9Izad",
        "colab_type": "code",
        "colab": {
          "base_uri": "https://localhost:8080/",
          "height": 51
        },
        "outputId": "03be689a-9ac1-4a92-ec0f-dac23ca42cbe"
      },
      "source": [
        "#questão E\n",
        "A = tf.constant([[1,0],[0,0]])\n",
        "B = tf.constant([[0,1],[1,0]])\n",
        "resultado = tf.matmul(A,B)\n",
        "print (tf.Session().run(resultado))"
      ],
      "execution_count": 29,
      "outputs": [
        {
          "output_type": "stream",
          "text": [
            "[[0 1]\n",
            " [0 0]]\n"
          ],
          "name": "stdout"
        }
      ]
    },
    {
      "cell_type": "code",
      "metadata": {
        "id": "_0oC8o0QJADh",
        "colab_type": "code",
        "outputId": "5c9977ef-ada4-43b6-c65e-3ce8a3bd5c76",
        "colab": {
          "base_uri": "https://localhost:8080/",
          "height": 68
        }
      },
      "source": [
        "#questão F\n",
        "A = tf.constant([[1,2],[3,1],[0,3]])\n",
        "B = tf.constant([[1,0,1],[2,1,0]])\n",
        "resultado = tf.matmul(A,B)\n",
        "print (tf.Session().run(resultado))"
      ],
      "execution_count": 31,
      "outputs": [
        {
          "output_type": "stream",
          "text": [
            "[[5 2 1]\n",
            " [5 1 3]\n",
            " [6 3 0]]\n"
          ],
          "name": "stdout"
        }
      ]
    },
    {
      "cell_type": "code",
      "metadata": {
        "id": "kjFRJTVCJz3Z",
        "colab_type": "code",
        "outputId": "d38608d3-c3c6-491b-b2f6-f1a78f79e053",
        "colab": {
          "base_uri": "https://localhost:8080/",
          "height": 51
        }
      },
      "source": [
        "#questão G\n",
        "A = tf.constant([[0,1],[1,0]])\n",
        "B = tf.constant([[1,0],[0,0]])\n",
        "resultado = tf.matmul(A,B)\n",
        "print (tf.Session().run(resultado))"
      ],
      "execution_count": 0,
      "outputs": [
        {
          "output_type": "stream",
          "text": [
            "[[27 23]\n",
            " [39 32]]\n"
          ],
          "name": "stdout"
        }
      ]
    },
    {
      "cell_type": "code",
      "metadata": {
        "id": "hsQ5zNHyT3cb",
        "colab_type": "code",
        "colab": {}
      },
      "source": [
        "#questão J\n",
        "A = tf.constant([[0,1],[1,0]])\n",
        "B = tf.constant([[1,0],[0,0]])\n",
        "resultado = tf.matmul(A,B)\n",
        "print (tf.Session().run(resultado))"
      ],
      "execution_count": 0,
      "outputs": []
    }
  ]
}