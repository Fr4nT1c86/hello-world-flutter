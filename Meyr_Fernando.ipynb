{
  "nbformat": 4,
  "nbformat_minor": 0,
  "metadata": {
    "colab": {
      "name": "Untitled1.ipynb",
      "provenance": [],
      "collapsed_sections": [],
      "include_colab_link": true
    },
    "kernelspec": {
      "name": "python3",
      "display_name": "Python 3"
    }
  },
  "cells": [
    {
      "cell_type": "markdown",
      "metadata": {
        "id": "view-in-github",
        "colab_type": "text"
      },
      "source": [
        "<a href=\"https://colab.research.google.com/github/Fr4nT1c86/hello-world-flutter/blob/master/Meyr_Fernando.ipynb\" target=\"_parent\"><img src=\"https://colab.research.google.com/assets/colab-badge.svg\" alt=\"Open In Colab\"/></a>"
      ]
    },
    {
      "cell_type": "code",
      "metadata": {
        "id": "wotSVEqlN6ej",
        "colab_type": "code",
        "colab": {}
      },
      "source": [
        "import numpy as np\n",
        "import matplotlib.pyplot as plt\n",
        "# vamos criar dois padroes\n",
        "#letra A\n",
        "A = np.array([\n",
        "    [1, -1, -1],\n",
        "    [-1, 1, -1],\n",
        "    [-1, -1, 1]\n",
        "]).reshape(-1)\n",
        "#letra Z\n",
        "Z = np.array([\n",
        "    [ 1,-1, 1],\n",
        "    [-1, 1,-1],\n",
        "    [ 1,-1, 1]\n",
        "]).reshape(-1)"
      ],
      "execution_count": 0,
      "outputs": []
    },
    {
      "cell_type": "code",
      "metadata": {
        "id": "bxFIHGTzf0hO",
        "colab_type": "code",
        "colab": {
          "base_uri": "https://localhost:8080/",
          "height": 297
        },
        "outputId": "69068379-8d47-4628-8c92-1ee1dc616271"
      },
      "source": [
        "# Mostrar Letras A\n",
        "ordem_matriz = 3\n",
        "f, ax = plt.subplots(1, 1, figsize=(4, 4))\n",
        "ax.imshow(A.reshape(ordem_matriz, ordem_matriz), cmap='bone_r')\n",
        "ax.set_axis_off()\n",
        "f.tight_layout()"
      ],
      "execution_count": 5,
      "outputs": [
        {
          "output_type": "display_data",
          "data": {
            "image/png": "[encoded data removed]",
            "text/plain": [
              "<Figure size 288x288 with 1 Axes>"
            ]
          },
          "metadata": {
            "tags": []
          }
        }
      ]
    },
    {
      "cell_type": "code",
      "metadata": {
        "id": "KYKQadf7f4Br",
        "colab_type": "code",
        "colab": {
          "base_uri": "https://localhost:8080/",
          "height": 297
        },
        "outputId": "ebaa0f58-9e1f-4b7d-9562-be8ca938e1ca"
      },
      "source": [
        "# Mostrar Letras Z\n",
        "ordem_matriz = 3\n",
        "f, ax = plt.subplots(1, 1, figsize=(4, 4))\n",
        "ax.imshow(Z.reshape(ordem_matriz, ordem_matriz), cmap='bone_r')\n",
        "ax.set_axis_off()\n",
        "f.tight_layout()"
      ],
      "execution_count": 6,
      "outputs": [
        {
          "output_type": "display_data",
          "data": {
            "image/png": "[encoded data removed]",
            "text/plain": [
              "<Figure size 288x288 with 1 Axes>"
            ]
          },
          "metadata": {
            "tags": []
          }
        }
      ]
    },
    {
      "cell_type": "code",
      "metadata": {
        "id": "PAv1z6Akf6-G",
        "colab_type": "code",
        "colab": {
          "base_uri": "https://localhost:8080/",
          "height": 170
        },
        "outputId": "ee406dcc-687f-411b-f45a-e66f2433adf1"
      },
      "source": [
        "#treinamento da rede com os dois padroes\n",
        "X = np.array([A, Z])\n",
        "m, n_units = np.shape(X)\n",
        "weights = np.zeros((n_units, n_units))\n",
        "for x in X:\n",
        "    weights += np.outer(x, x) / m   # produto de dois veores\n",
        "weights[np.diag_indices(n_units)] = 0  # insere zeros na diagonal principal\n",
        "\n",
        "weights"
      ],
      "execution_count": 7,
      "outputs": [
        {
          "output_type": "execute_result",
          "data": {
            "text/plain": [
              "array([[ 0., -1.,  0., -1.,  1., -1.,  0., -1.,  1.],\n",
              "       [-1.,  0.,  0.,  1., -1.,  1.,  0.,  1., -1.],\n",
              "       [ 0.,  0.,  0.,  0.,  0.,  0.,  1.,  0.,  0.],\n",
              "       [-1.,  1.,  0.,  0., -1.,  1.,  0.,  1., -1.],\n",
              "       [ 1., -1.,  0., -1.,  0., -1.,  0., -1.,  1.],\n",
              "       [-1.,  1.,  0.,  1., -1.,  0.,  0.,  1., -1.],\n",
              "       [ 0.,  0.,  1.,  0.,  0.,  0.,  0.,  0.,  0.],\n",
              "       [-1.,  1.,  0.,  1., -1.,  1.,  0.,  0., -1.],\n",
              "       [ 1., -1.,  0., -1.,  1., -1.,  0., -1.,  0.]])"
            ]
          },
          "metadata": {
            "tags": []
          },
          "execution_count": 7
        }
      ]
    },
    {
      "cell_type": "code",
      "metadata": {
        "id": "1M05Qe-7f-rC",
        "colab_type": "code",
        "colab": {
          "base_uri": "https://localhost:8080/",
          "height": 297
        },
        "outputId": "dfdaa84b-252f-47e2-aa9e-2257c26d8a77"
      },
      "source": [
        "# criar padrao de teste\n",
        "teste = np.array([\n",
        "    [ 1, 1,-1],\n",
        "    [ 1, 1,-1],\n",
        "    [ 1, 1, 1]\n",
        "]).reshape(-1)\n",
        "# reshape(-1) transforma a matriz em um vetor unico\n",
        "teste\n",
        "#mostra teste\n",
        "ordem_matriz = 3\n",
        "f, ax = plt.subplots(1, 1, figsize=(4, 4))\n",
        "ax.imshow(teste.reshape(ordem_matriz, ordem_matriz), cmap='bone_r')\n",
        "ax.set_axis_off()\n",
        "f.tight_layout()"
      ],
      "execution_count": 8,
      "outputs": [
        {
          "output_type": "display_data",
          "data": {
            "image/png": "[encoded data removed]",
            "text/plain": [
              "<Figure size 288x288 with 1 Axes>"
            ]
          },
          "metadata": {
            "tags": []
          }
        }
      ]
    },
    {
      "cell_type": "code",
      "metadata": {
        "id": "fyyqh3OkgBwh",
        "colab_type": "code",
        "colab": {
          "base_uri": "https://localhost:8080/",
          "height": 34
        },
        "outputId": "a4a2850c-7e99-4b5b-d9e5-ac58ed9bdfa5"
      },
      "source": [
        "#Testa a rede com o padrao\n",
        "n_iter = 3  # numero de iteraçoes\n",
        "soft = False  # pode usa tangente (true) como função de ativação ou degrau (false)\n",
        "Xteste = teste\n",
        "Xs = [None] * n_iter\n",
        "for i in range(n_iter):\n",
        "      Xteste = np.dot(Xteste, weights)\n",
        "      if soft:\n",
        "          Xteste = np.tanh(Xteste)\n",
        "      else:\n",
        "          Xteste[Xteste < 0] = -1\n",
        "          Xteste[Xteste >= 0] = 1\n",
        "      Xs[i] = - Xteste\n",
        "Xteste"
      ],
      "execution_count": 9,
      "outputs": [
        {
          "output_type": "execute_result",
          "data": {
            "text/plain": [
              "array([ 1., -1.,  1., -1.,  1., -1., -1., -1.,  1.])"
            ]
          },
          "metadata": {
            "tags": []
          },
          "execution_count": 9
        }
      ]
    },
    {
      "cell_type": "code",
      "metadata": {
        "id": "RxLUoYeagGlQ",
        "colab_type": "code",
        "colab": {
          "base_uri": "https://localhost:8080/",
          "height": 234
        },
        "outputId": "b4aa46c7-8f95-4f0e-e588-1b719c7825a5"
      },
      "source": [
        "#mostra teste final\n",
        "x_hats = Xs\n",
        "f, axes = plt.subplots(1, n_iter+1, figsize=((n_iter+1)*3, 3))\n",
        "x_hats.insert(0, teste)\n",
        "for i in range(n_iter+1):\n",
        "    axes[i].imshow(x_hats[i].reshape(ordem_matriz, ordem_matriz), cmap='bone_r')\n",
        "    axes[i].set_axis_off()\n",
        "    axes[i].set_title(f'Padrão recuperado, iter: {i}')\n",
        "f.tight_layout()"
      ],
      "execution_count": 10,
      "outputs": [
        {
          "output_type": "display_data",
          "data": {
            "image/png": "[encoded data removed]",
            "text/plain": [
              "<Figure size 864x216 with 4 Axes>"
            ]
          },
          "metadata": {
            "tags": []
          }
        }
      ]
    }
  ]
}