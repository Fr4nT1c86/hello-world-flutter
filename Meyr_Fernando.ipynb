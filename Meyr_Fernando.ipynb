{
  "nbformat": 4,
  "nbformat_minor": 0,
  "metadata": {
    "colab": {
      "name": "Untitled1.ipynb",
      "provenance": [],
      "collapsed_sections": [],
      "include_colab_link": true
    },
    "kernelspec": {
      "name": "python3",
      "display_name": "Python 3"
    }
  },
  "cells": [
    {
      "cell_type": "markdown",
      "metadata": {
        "id": "view-in-github",
        "colab_type": "text"
      },
      "source": [
        "<a href=\"https://colab.research.google.com/github/Fr4nT1c86/hello-world-flutter/blob/master/Meyr_Fernando.ipynb\" target=\"_parent\"><img src=\"https://colab.research.google.com/assets/colab-badge.svg\" alt=\"Open In Colab\"/></a>"
      ]
    },
    {
      "cell_type": "code",
      "metadata": {
        "id": "wotSVEqlN6ej",
        "colab_type": "code",
        "outputId": "f1f62fbc-1f33-49d1-999a-1e2f66d58dd5",
        "colab": {
          "base_uri": "https://localhost:8080/",
          "height": 170
        }
      },
      "source": [
        "import numpy as np\n",
        "import matplotlib.pyplot as plt\n",
        "# vamos criar dois padroes\n",
        "#letra A\n",
        "A = np.array([\n",
        "    [1, -1, -1],\n",
        "    [-1, 1, -1],\n",
        "    [-1, -1, 1]\n",
        "]).reshape(-1)\n",
        "#letra Z\n",
        "Z = np.array([\n",
        "    [ 1,-1, 1],\n",
        "    [-1, 1,-1],\n",
        "    [ 1,-1, 1]\n",
        "]).reshape(-1)"
      ],
      "execution_count": 0,
      "outputs": [
        {
          "output_type": "stream",
          "text": [
            "X =  0.7984\n",
            "X =  0.692\n",
            "X =  0.692\n",
            "X =  0.44499999999999995\n",
            "X =  0.35509999999999997\n",
            "X =  0.35219999999999996\n",
            "X =  0.3342\n",
            "X =  0.4064\n",
            "X =  0.4596\n"
          ],
          "name": "stdout"
        }
      ]
    }
  ]
}